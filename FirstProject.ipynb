{
 "cells": [
  {
   "cell_type": "code",
   "execution_count": 11,
   "metadata": {},
   "outputs": [],
   "source": [
    "# General:\n",
    "import tweepy           # To consume Twitter's API\n",
    "import pandas as pd     # To handle data\n",
    "import numpy as np      # For number computing\n"
   ]
  },
  {
   "cell_type": "code",
   "execution_count": 12,
   "metadata": {},
   "outputs": [],
   "source": [
    "# For plotting and visualization:\n",
    "from IPython.display import display\n",
    "import matplotlib.pyplot as plt\n",
    "import seaborn as sns\n",
    "%matplotlib inline"
   ]
  },
  {
   "cell_type": "code",
   "execution_count": 13,
   "metadata": {},
   "outputs": [],
   "source": [
    "# Twitter App access keys for @user\n",
    "\n",
    "# Consume:\n",
    "CONSUMER_KEY    = '4OTsOJiu1cERVuuqOAvg9LWbi'\n",
    "CONSUMER_SECRET = 'EDs9p10sLdpDSRpvJCFaoHcyAHEL0tNjNszfTyJT1EW4eOQrUv'\n",
    "\n",
    "# Access:\n",
    "ACCESS_TOKEN  = '781242136989667328-aGIQ2JePB0zH2ihHgXGBWDUveVTag0W'\n",
    "ACCESS_SECRET = 'jJGPzyFryGTDrMyfxSnCRBsfgJvv64pkQCG1R5LwjZTay'"
   ]
  },
  {
   "cell_type": "code",
   "execution_count": 14,
   "metadata": {},
   "outputs": [],
   "source": [
    "# We import our access keys:\n",
    "# from credentials import *    # This will allow us to use the keys as variables\n",
    "\n",
    "# API's setup:\n",
    "def twitter_setup():\n",
    "    \"\"\"\n",
    "    Utility function to setup the Twitter's API\n",
    "    with our access keys provided.\n",
    "    \"\"\"\n",
    "    # Authentication and access using keys:\n",
    "    auth = tweepy.OAuthHandler(CONSUMER_KEY, CONSUMER_SECRET)\n",
    "    auth.set_access_token(ACCESS_TOKEN, ACCESS_SECRET)\n",
    "\n",
    "    # Return API with authentication:\n",
    "    api = tweepy.API(auth)\n",
    "    return api"
   ]
  },
  {
   "cell_type": "code",
   "execution_count": 15,
   "metadata": {},
   "outputs": [
    {
     "name": "stdout",
     "output_type": "stream",
     "text": [
      "Number of tweets extracted: 200.\n",
      "\n",
      "5 recent tweets:\n",
      "\n",
      "....cameras running. Another False Accusation. Why doesn’t @washingtonpost report the story of the women taking mon… https://t.co/OTpK1KLYOL\n",
      "\n",
      "A woman I don’t know and, to the best of my knowledge, never met, is on the FRONT PAGE of the Fake News Washington… https://t.co/lWlDMu6gxb\n",
      "\n",
      "I have been much tougher on Russia than Obama, just look at the facts. Total Fake News!\n",
      "\n",
      "Hope Republicans in the Great State of Pennsylvania challenge the new “pushed” Congressional Map, all the way to th… https://t.co/bT190oQKpM\n",
      "\n",
      "Matt Schlapp and CPAC are getting ready for another exciting event. Big difference from those days when President O… https://t.co/KxKVJL0Bc4\n",
      "\n"
     ]
    }
   ],
   "source": [
    "# We create an extractor object:\n",
    "extractor = twitter_setup()\n",
    "\n",
    "# We create a tweet list as follows:\n",
    "tweets = extractor.user_timeline(screen_name=\"realDonaldTrump\", count=200)\n",
    "print(\"Number of tweets extracted: {}.\\n\".format(len(tweets)))\n",
    "\n",
    "# We print the most recent 5 tweets:\n",
    "print(\"5 recent tweets:\\n\")\n",
    "for tweet in tweets[:5]:\n",
    "    print(tweet.text)\n",
    "    print()"
   ]
  },
  {
   "cell_type": "code",
   "execution_count": 16,
   "metadata": {},
   "outputs": [
    {
     "data": {
      "text/html": [
       "<div>\n",
       "<style scoped>\n",
       "    .dataframe tbody tr th:only-of-type {\n",
       "        vertical-align: middle;\n",
       "    }\n",
       "\n",
       "    .dataframe tbody tr th {\n",
       "        vertical-align: top;\n",
       "    }\n",
       "\n",
       "    .dataframe thead th {\n",
       "        text-align: right;\n",
       "    }\n",
       "</style>\n",
       "<table border=\"1\" class=\"dataframe\">\n",
       "  <thead>\n",
       "    <tr style=\"text-align: right;\">\n",
       "      <th></th>\n",
       "      <th>Tweets</th>\n",
       "    </tr>\n",
       "  </thead>\n",
       "  <tbody>\n",
       "    <tr>\n",
       "      <th>0</th>\n",
       "      <td>....cameras running. Another False Accusation....</td>\n",
       "    </tr>\n",
       "    <tr>\n",
       "      <th>1</th>\n",
       "      <td>A woman I don’t know and, to the best of my kn...</td>\n",
       "    </tr>\n",
       "    <tr>\n",
       "      <th>2</th>\n",
       "      <td>I have been much tougher on Russia than Obama,...</td>\n",
       "    </tr>\n",
       "    <tr>\n",
       "      <th>3</th>\n",
       "      <td>Hope Republicans in the Great State of Pennsyl...</td>\n",
       "    </tr>\n",
       "    <tr>\n",
       "      <th>4</th>\n",
       "      <td>Matt Schlapp and CPAC are getting ready for an...</td>\n",
       "    </tr>\n",
       "    <tr>\n",
       "      <th>5</th>\n",
       "      <td>Republicans are now leading the Generic Poll, ...</td>\n",
       "    </tr>\n",
       "    <tr>\n",
       "      <th>6</th>\n",
       "      <td>....The President Obama quote just before elec...</td>\n",
       "    </tr>\n",
       "    <tr>\n",
       "      <th>7</th>\n",
       "      <td>“There is no serious person out there who woul...</td>\n",
       "    </tr>\n",
       "    <tr>\n",
       "      <th>8</th>\n",
       "      <td>Thank you to @foxandfriends for the great time...</td>\n",
       "    </tr>\n",
       "    <tr>\n",
       "      <th>9</th>\n",
       "      <td>“The Faith of Donald Trump,” a book just out b...</td>\n",
       "    </tr>\n",
       "  </tbody>\n",
       "</table>\n",
       "</div>"
      ],
      "text/plain": [
       "                                              Tweets\n",
       "0  ....cameras running. Another False Accusation....\n",
       "1  A woman I don’t know and, to the best of my kn...\n",
       "2  I have been much tougher on Russia than Obama,...\n",
       "3  Hope Republicans in the Great State of Pennsyl...\n",
       "4  Matt Schlapp and CPAC are getting ready for an...\n",
       "5  Republicans are now leading the Generic Poll, ...\n",
       "6  ....The President Obama quote just before elec...\n",
       "7  “There is no serious person out there who woul...\n",
       "8  Thank you to @foxandfriends for the great time...\n",
       "9  “The Faith of Donald Trump,” a book just out b..."
      ]
     },
     "metadata": {},
     "output_type": "display_data"
    }
   ],
   "source": [
    "# We create a pandas dataframe as follows:\n",
    "data = pd.DataFrame(data=[tweet.text for tweet in tweets], columns=['Tweets'])\n",
    "\n",
    "# We display the first 10 elements of the dataframe:\n",
    "display(data.head(10))"
   ]
  },
  {
   "cell_type": "code",
   "execution_count": 17,
   "metadata": {},
   "outputs": [
    {
     "name": "stdout",
     "output_type": "stream",
     "text": [
      "['__class__', '__delattr__', '__dict__', '__dir__', '__doc__', '__eq__', '__format__', '__ge__', '__getattribute__', '__getstate__', '__gt__', '__hash__', '__init__', '__init_subclass__', '__le__', '__lt__', '__module__', '__ne__', '__new__', '__reduce__', '__reduce_ex__', '__repr__', '__setattr__', '__sizeof__', '__str__', '__subclasshook__', '__weakref__', '_api', '_json', 'author', 'contributors', 'coordinates', 'created_at', 'destroy', 'entities', 'favorite', 'favorite_count', 'favorited', 'geo', 'id', 'id_str', 'in_reply_to_screen_name', 'in_reply_to_status_id', 'in_reply_to_status_id_str', 'in_reply_to_user_id', 'in_reply_to_user_id_str', 'is_quote_status', 'lang', 'parse', 'parse_list', 'place', 'retweet', 'retweet_count', 'retweeted', 'retweets', 'source', 'source_url', 'text', 'truncated', 'user']\n"
     ]
    }
   ],
   "source": [
    "# Internal methods of a single tweet object:\n",
    "print(dir(tweets[0]))"
   ]
  },
  {
   "cell_type": "code",
   "execution_count": 18,
   "metadata": {},
   "outputs": [
    {
     "name": "stdout",
     "output_type": "stream",
     "text": [
      "965971586913374208\n",
      "2018-02-20 15:29:07\n",
      "Twitter for iPhone\n",
      "26244\n",
      "7097\n",
      "None\n",
      "None\n",
      "{'hashtags': [], 'symbols': [], 'user_mentions': [{'screen_name': 'washingtonpost', 'name': 'Washington Post', 'id': 2467791, 'id_str': '2467791', 'indices': [59, 74]}], 'urls': [{'url': 'https://t.co/OTpK1KLYOL', 'expanded_url': 'https://twitter.com/i/web/status/965971586913374208', 'display_url': 'twitter.com/i/web/status/9…', 'indices': [117, 140]}]}\n"
     ]
    }
   ],
   "source": [
    "# We print info from the first tweet:\n",
    "print(tweets[0].id)\n",
    "print(tweets[0].created_at)\n",
    "print(tweets[0].source)\n",
    "print(tweets[0].favorite_count)\n",
    "print(tweets[0].retweet_count)\n",
    "print(tweets[0].geo)\n",
    "print(tweets[0].coordinates)\n",
    "print(tweets[0].entities)"
   ]
  },
  {
   "cell_type": "code",
   "execution_count": 19,
   "metadata": {},
   "outputs": [],
   "source": [
    "# We add relevant data:\n",
    "data['len']  = np.array([len(tweet.text) for tweet in tweets])\n",
    "data['ID']   = np.array([tweet.id for tweet in tweets])\n",
    "data['Date'] = np.array([tweet.created_at for tweet in tweets])\n",
    "data['Source'] = np.array([tweet.source for tweet in tweets])\n",
    "data['Likes']  = np.array([tweet.favorite_count for tweet in tweets])\n",
    "data['RTs']    = np.array([tweet.retweet_count for tweet in tweets])"
   ]
  },
  {
   "cell_type": "code",
   "execution_count": 20,
   "metadata": {},
   "outputs": [
    {
     "data": {
      "text/html": [
       "<div>\n",
       "<style scoped>\n",
       "    .dataframe tbody tr th:only-of-type {\n",
       "        vertical-align: middle;\n",
       "    }\n",
       "\n",
       "    .dataframe tbody tr th {\n",
       "        vertical-align: top;\n",
       "    }\n",
       "\n",
       "    .dataframe thead th {\n",
       "        text-align: right;\n",
       "    }\n",
       "</style>\n",
       "<table border=\"1\" class=\"dataframe\">\n",
       "  <thead>\n",
       "    <tr style=\"text-align: right;\">\n",
       "      <th></th>\n",
       "      <th>Tweets</th>\n",
       "      <th>len</th>\n",
       "      <th>ID</th>\n",
       "      <th>Date</th>\n",
       "      <th>Source</th>\n",
       "      <th>Likes</th>\n",
       "      <th>RTs</th>\n",
       "    </tr>\n",
       "  </thead>\n",
       "  <tbody>\n",
       "    <tr>\n",
       "      <th>0</th>\n",
       "      <td>....cameras running. Another False Accusation....</td>\n",
       "      <td>140</td>\n",
       "      <td>965971586913374208</td>\n",
       "      <td>2018-02-20 15:29:07</td>\n",
       "      <td>Twitter for iPhone</td>\n",
       "      <td>26244</td>\n",
       "      <td>7097</td>\n",
       "    </tr>\n",
       "    <tr>\n",
       "      <th>1</th>\n",
       "      <td>A woman I don’t know and, to the best of my kn...</td>\n",
       "      <td>139</td>\n",
       "      <td>965968309358333952</td>\n",
       "      <td>2018-02-20 15:16:06</td>\n",
       "      <td>Twitter for iPhone</td>\n",
       "      <td>33462</td>\n",
       "      <td>8368</td>\n",
       "    </tr>\n",
       "    <tr>\n",
       "      <th>2</th>\n",
       "      <td>I have been much tougher on Russia than Obama,...</td>\n",
       "      <td>87</td>\n",
       "      <td>965943827931549696</td>\n",
       "      <td>2018-02-20 13:38:49</td>\n",
       "      <td>Twitter for iPhone</td>\n",
       "      <td>38982</td>\n",
       "      <td>8747</td>\n",
       "    </tr>\n",
       "    <tr>\n",
       "      <th>3</th>\n",
       "      <td>Hope Republicans in the Great State of Pennsyl...</td>\n",
       "      <td>140</td>\n",
       "      <td>965937068907073536</td>\n",
       "      <td>2018-02-20 13:11:58</td>\n",
       "      <td>Twitter for iPhone</td>\n",
       "      <td>40096</td>\n",
       "      <td>11188</td>\n",
       "    </tr>\n",
       "    <tr>\n",
       "      <th>4</th>\n",
       "      <td>Matt Schlapp and CPAC are getting ready for an...</td>\n",
       "      <td>140</td>\n",
       "      <td>965935035328155649</td>\n",
       "      <td>2018-02-20 13:03:53</td>\n",
       "      <td>Twitter for iPhone</td>\n",
       "      <td>28125</td>\n",
       "      <td>6026</td>\n",
       "    </tr>\n",
       "    <tr>\n",
       "      <th>5</th>\n",
       "      <td>Republicans are now leading the Generic Poll, ...</td>\n",
       "      <td>140</td>\n",
       "      <td>965932714141650946</td>\n",
       "      <td>2018-02-20 12:54:39</td>\n",
       "      <td>Twitter for iPhone</td>\n",
       "      <td>43166</td>\n",
       "      <td>9920</td>\n",
       "    </tr>\n",
       "    <tr>\n",
       "      <th>6</th>\n",
       "      <td>....The President Obama quote just before elec...</td>\n",
       "      <td>139</td>\n",
       "      <td>965930611272712192</td>\n",
       "      <td>2018-02-20 12:46:18</td>\n",
       "      <td>Twitter for iPhone</td>\n",
       "      <td>45293</td>\n",
       "      <td>11746</td>\n",
       "    </tr>\n",
       "    <tr>\n",
       "      <th>7</th>\n",
       "      <td>“There is no serious person out there who woul...</td>\n",
       "      <td>140</td>\n",
       "      <td>965928352614965248</td>\n",
       "      <td>2018-02-20 12:37:20</td>\n",
       "      <td>Twitter for iPhone</td>\n",
       "      <td>36784</td>\n",
       "      <td>10129</td>\n",
       "    </tr>\n",
       "    <tr>\n",
       "      <th>8</th>\n",
       "      <td>Thank you to @foxandfriends for the great time...</td>\n",
       "      <td>140</td>\n",
       "      <td>965925223949357056</td>\n",
       "      <td>2018-02-20 12:24:54</td>\n",
       "      <td>Twitter for iPhone</td>\n",
       "      <td>39398</td>\n",
       "      <td>9234</td>\n",
       "    </tr>\n",
       "    <tr>\n",
       "      <th>9</th>\n",
       "      <td>“The Faith of Donald Trump,” a book just out b...</td>\n",
       "      <td>110</td>\n",
       "      <td>965780052167286784</td>\n",
       "      <td>2018-02-20 02:48:02</td>\n",
       "      <td>Twitter for iPhone</td>\n",
       "      <td>52558</td>\n",
       "      <td>10766</td>\n",
       "    </tr>\n",
       "  </tbody>\n",
       "</table>\n",
       "</div>"
      ],
      "text/plain": [
       "                                              Tweets  len                  ID  \\\n",
       "0  ....cameras running. Another False Accusation....  140  965971586913374208   \n",
       "1  A woman I don’t know and, to the best of my kn...  139  965968309358333952   \n",
       "2  I have been much tougher on Russia than Obama,...   87  965943827931549696   \n",
       "3  Hope Republicans in the Great State of Pennsyl...  140  965937068907073536   \n",
       "4  Matt Schlapp and CPAC are getting ready for an...  140  965935035328155649   \n",
       "5  Republicans are now leading the Generic Poll, ...  140  965932714141650946   \n",
       "6  ....The President Obama quote just before elec...  139  965930611272712192   \n",
       "7  “There is no serious person out there who woul...  140  965928352614965248   \n",
       "8  Thank you to @foxandfriends for the great time...  140  965925223949357056   \n",
       "9  “The Faith of Donald Trump,” a book just out b...  110  965780052167286784   \n",
       "\n",
       "                 Date              Source  Likes    RTs  \n",
       "0 2018-02-20 15:29:07  Twitter for iPhone  26244   7097  \n",
       "1 2018-02-20 15:16:06  Twitter for iPhone  33462   8368  \n",
       "2 2018-02-20 13:38:49  Twitter for iPhone  38982   8747  \n",
       "3 2018-02-20 13:11:58  Twitter for iPhone  40096  11188  \n",
       "4 2018-02-20 13:03:53  Twitter for iPhone  28125   6026  \n",
       "5 2018-02-20 12:54:39  Twitter for iPhone  43166   9920  \n",
       "6 2018-02-20 12:46:18  Twitter for iPhone  45293  11746  \n",
       "7 2018-02-20 12:37:20  Twitter for iPhone  36784  10129  \n",
       "8 2018-02-20 12:24:54  Twitter for iPhone  39398   9234  \n",
       "9 2018-02-20 02:48:02  Twitter for iPhone  52558  10766  "
      ]
     },
     "metadata": {},
     "output_type": "display_data"
    }
   ],
   "source": [
    "# Display of first 10 elements from dataframe:\n",
    "display(data.head(10))"
   ]
  },
  {
   "cell_type": "code",
   "execution_count": 21,
   "metadata": {},
   "outputs": [
    {
     "name": "stdout",
     "output_type": "stream",
     "text": [
      "The lenght's average in tweets: 129.98\n"
     ]
    }
   ],
   "source": [
    "# We extract the mean of lenghts:\n",
    "mean = np.mean(data['len'])\n",
    "\n",
    "print(\"The lenght's average in tweets: {}\".format(mean))"
   ]
  },
  {
   "cell_type": "code",
   "execution_count": 22,
   "metadata": {},
   "outputs": [
    {
     "name": "stdout",
     "output_type": "stream",
     "text": [
      "The tweet with more likes is: \n",
      "Somebody please inform Jay-Z that because of my policies, Black Unemployment has just been reported to be at the LOWEST RATE EVER RECORDED!\n",
      "Number of likes: 240437\n",
      "139 characters.\n",
      "\n",
      "The tweet with more retweets is: \n",
      "Somebody please inform Jay-Z that because of my policies, Black Unemployment has just been reported to be at the LOWEST RATE EVER RECORDED!\n",
      "Number of retweets: 64101\n",
      "139 characters.\n",
      "\n"
     ]
    }
   ],
   "source": [
    "# We extract the tweet with more FAVs and more RTs:\n",
    "\n",
    "fav_max = np.max(data['Likes'])\n",
    "rt_max  = np.max(data['RTs'])\n",
    "\n",
    "fav = data[data.Likes == fav_max].index[0]\n",
    "rt  = data[data.RTs == rt_max].index[0]\n",
    "\n",
    "# Max FAVs:\n",
    "print(\"The tweet with more likes is: \\n{}\".format(data['Tweets'][fav]))\n",
    "print(\"Number of likes: {}\".format(fav_max))\n",
    "print(\"{} characters.\\n\".format(data['len'][fav]))\n",
    "\n",
    "# Max RTs:\n",
    "print(\"The tweet with more retweets is: \\n{}\".format(data['Tweets'][rt]))\n",
    "print(\"Number of retweets: {}\".format(rt_max))\n",
    "print(\"{} characters.\\n\".format(data['len'][rt]))"
   ]
  },
  {
   "cell_type": "code",
   "execution_count": 23,
   "metadata": {},
   "outputs": [],
   "source": [
    "# We create time series for data:\n",
    "\n",
    "tlen = pd.Series(data=data['len'].values, index=data['Date'])\n",
    "tfav = pd.Series(data=data['Likes'].values, index=data['Date'])\n",
    "tret = pd.Series(data=data['RTs'].values, index=data['Date'])"
   ]
  },
  {
   "cell_type": "code",
   "execution_count": 24,
   "metadata": {},
   "outputs": [
    {
     "data": {
      "image/png": "[encoded data removed]",
      "text/plain": [
       "<matplotlib.figure.Figure at 0x261d6a11ba8>"
      ]
     },
     "metadata": {},
     "output_type": "display_data"
    }
   ],
   "source": [
    "# Lenghts along time:\n",
    "tlen.plot(figsize=(16,4), color='r');"
   ]
  },
  {
   "cell_type": "code",
   "execution_count": 25,
   "metadata": {},
   "outputs": [
    {
     "data": {
      "image/png": "[encoded data removed]",
      "text/plain": [
       "<matplotlib.figure.Figure at 0x261d6b15358>"
      ]
     },
     "metadata": {},
     "output_type": "display_data"
    }
   ],
   "source": [
    "# Likes vs retweets visualization:\n",
    "tfav.plot(figsize=(16,4), label=\"Likes\", legend=True)\n",
    "tret.plot(figsize=(16,4), label=\"Retweets\", legend=True);"
   ]
  },
  {
   "cell_type": "code",
   "execution_count": 26,
   "metadata": {},
   "outputs": [
    {
     "name": "stdout",
     "output_type": "stream",
     "text": [
      "Creation of content sources:\n",
      "* Twitter for iPhone\n",
      "* Twitter for iPad\n",
      "* Media Studio\n"
     ]
    }
   ],
   "source": [
    "# We obtain all possible sources:\n",
    "sources = []\n",
    "for source in data['Source']:\n",
    "    if source not in sources:\n",
    "        sources.append(source)\n",
    "\n",
    "# We print sources list:\n",
    "print(\"Creation of content sources:\")\n",
    "for source in sources:\n",
    "    print(\"* {}\".format(source))"
   ]
  },
  {
   "cell_type": "code",
   "execution_count": 27,
   "metadata": {},
   "outputs": [
    {
     "data": {
      "image/png": "[encoded data removed]",
      "text/plain": [
       "<matplotlib.figure.Figure at 0x261d6a087b8>"
      ]
     },
     "metadata": {},
     "output_type": "display_data"
    }
   ],
   "source": [
    "# We create a numpy vector mapped to labels:\n",
    "percent = np.zeros(len(sources))\n",
    "\n",
    "for source in data['Source']:\n",
    "    for index in range(len(sources)):\n",
    "        if source == sources[index]:\n",
    "            percent[index] += 1\n",
    "            pass\n",
    "\n",
    "percent /= 100\n",
    "\n",
    "# Pie chart:\n",
    "pie_chart = pd.Series(percent, index=sources, name='Sources')\n",
    "pie_chart.plot.pie(fontsize=11, autopct='%.2f', figsize=(6, 6));"
   ]
  },
  {
   "cell_type": "code",
   "execution_count": 28,
   "metadata": {},
   "outputs": [],
   "source": [
    "from textblob import TextBlob\n",
    "import re\n",
    "\n",
    "def clean_tweet(tweet):\n",
    "    '''\n",
    "    Utility function to clean the text in a tweet by removing \n",
    "    links and special characters using regex.\n",
    "    '''\n",
    "    return ' '.join(re.sub(\"(@[A-Za-z0-9]+)|([^0-9A-Za-z \\t])|(\\w+:\\/\\/\\S+)\", \" \", tweet).split())\n",
    "\n",
    "def analize_sentiment(tweet):\n",
    "    '''\n",
    "    Utility function to classify the polarity of a tweet\n",
    "    using textblob.\n",
    "    '''\n",
    "    analysis = TextBlob(clean_tweet(tweet))\n",
    "    if analysis.sentiment.polarity > 0:\n",
    "        return 1\n",
    "    elif analysis.sentiment.polarity == 0:\n",
    "        return 0\n",
    "    else:\n",
    "        return -1"
   ]
  },
  {
   "cell_type": "code",
   "execution_count": 29,
   "metadata": {},
   "outputs": [
    {
     "data": {
      "text/html": [
       "<div>\n",
       "<style scoped>\n",
       "    .dataframe tbody tr th:only-of-type {\n",
       "        vertical-align: middle;\n",
       "    }\n",
       "\n",
       "    .dataframe tbody tr th {\n",
       "        vertical-align: top;\n",
       "    }\n",
       "\n",
       "    .dataframe thead th {\n",
       "        text-align: right;\n",
       "    }\n",
       "</style>\n",
       "<table border=\"1\" class=\"dataframe\">\n",
       "  <thead>\n",
       "    <tr style=\"text-align: right;\">\n",
       "      <th></th>\n",
       "      <th>Tweets</th>\n",
       "      <th>len</th>\n",
       "      <th>ID</th>\n",
       "      <th>Date</th>\n",
       "      <th>Source</th>\n",
       "      <th>Likes</th>\n",
       "      <th>RTs</th>\n",
       "      <th>SA</th>\n",
       "    </tr>\n",
       "  </thead>\n",
       "  <tbody>\n",
       "    <tr>\n",
       "      <th>0</th>\n",
       "      <td>....cameras running. Another False Accusation....</td>\n",
       "      <td>140</td>\n",
       "      <td>965971586913374208</td>\n",
       "      <td>2018-02-20 15:29:07</td>\n",
       "      <td>Twitter for iPhone</td>\n",
       "      <td>26244</td>\n",
       "      <td>7097</td>\n",
       "      <td>-1</td>\n",
       "    </tr>\n",
       "    <tr>\n",
       "      <th>1</th>\n",
       "      <td>A woman I don’t know and, to the best of my kn...</td>\n",
       "      <td>139</td>\n",
       "      <td>965968309358333952</td>\n",
       "      <td>2018-02-20 15:16:06</td>\n",
       "      <td>Twitter for iPhone</td>\n",
       "      <td>33462</td>\n",
       "      <td>8368</td>\n",
       "      <td>1</td>\n",
       "    </tr>\n",
       "    <tr>\n",
       "      <th>2</th>\n",
       "      <td>I have been much tougher on Russia than Obama,...</td>\n",
       "      <td>87</td>\n",
       "      <td>965943827931549696</td>\n",
       "      <td>2018-02-20 13:38:49</td>\n",
       "      <td>Twitter for iPhone</td>\n",
       "      <td>38982</td>\n",
       "      <td>8747</td>\n",
       "      <td>-1</td>\n",
       "    </tr>\n",
       "    <tr>\n",
       "      <th>3</th>\n",
       "      <td>Hope Republicans in the Great State of Pennsyl...</td>\n",
       "      <td>140</td>\n",
       "      <td>965937068907073536</td>\n",
       "      <td>2018-02-20 13:11:58</td>\n",
       "      <td>Twitter for iPhone</td>\n",
       "      <td>40096</td>\n",
       "      <td>11188</td>\n",
       "      <td>1</td>\n",
       "    </tr>\n",
       "    <tr>\n",
       "      <th>4</th>\n",
       "      <td>Matt Schlapp and CPAC are getting ready for an...</td>\n",
       "      <td>140</td>\n",
       "      <td>965935035328155649</td>\n",
       "      <td>2018-02-20 13:03:53</td>\n",
       "      <td>Twitter for iPhone</td>\n",
       "      <td>28125</td>\n",
       "      <td>6026</td>\n",
       "      <td>1</td>\n",
       "    </tr>\n",
       "    <tr>\n",
       "      <th>5</th>\n",
       "      <td>Republicans are now leading the Generic Poll, ...</td>\n",
       "      <td>140</td>\n",
       "      <td>965932714141650946</td>\n",
       "      <td>2018-02-20 12:54:39</td>\n",
       "      <td>Twitter for iPhone</td>\n",
       "      <td>43166</td>\n",
       "      <td>9920</td>\n",
       "      <td>1</td>\n",
       "    </tr>\n",
       "    <tr>\n",
       "      <th>6</th>\n",
       "      <td>....The President Obama quote just before elec...</td>\n",
       "      <td>139</td>\n",
       "      <td>965930611272712192</td>\n",
       "      <td>2018-02-20 12:46:18</td>\n",
       "      <td>Twitter for iPhone</td>\n",
       "      <td>45293</td>\n",
       "      <td>11746</td>\n",
       "      <td>1</td>\n",
       "    </tr>\n",
       "    <tr>\n",
       "      <th>7</th>\n",
       "      <td>“There is no serious person out there who woul...</td>\n",
       "      <td>140</td>\n",
       "      <td>965928352614965248</td>\n",
       "      <td>2018-02-20 12:37:20</td>\n",
       "      <td>Twitter for iPhone</td>\n",
       "      <td>36784</td>\n",
       "      <td>10129</td>\n",
       "      <td>1</td>\n",
       "    </tr>\n",
       "    <tr>\n",
       "      <th>8</th>\n",
       "      <td>Thank you to @foxandfriends for the great time...</td>\n",
       "      <td>140</td>\n",
       "      <td>965925223949357056</td>\n",
       "      <td>2018-02-20 12:24:54</td>\n",
       "      <td>Twitter for iPhone</td>\n",
       "      <td>39398</td>\n",
       "      <td>9234</td>\n",
       "      <td>1</td>\n",
       "    </tr>\n",
       "    <tr>\n",
       "      <th>9</th>\n",
       "      <td>“The Faith of Donald Trump,” a book just out b...</td>\n",
       "      <td>110</td>\n",
       "      <td>965780052167286784</td>\n",
       "      <td>2018-02-20 02:48:02</td>\n",
       "      <td>Twitter for iPhone</td>\n",
       "      <td>52558</td>\n",
       "      <td>10766</td>\n",
       "      <td>1</td>\n",
       "    </tr>\n",
       "  </tbody>\n",
       "</table>\n",
       "</div>"
      ],
      "text/plain": [
       "                                              Tweets  len                  ID  \\\n",
       "0  ....cameras running. Another False Accusation....  140  965971586913374208   \n",
       "1  A woman I don’t know and, to the best of my kn...  139  965968309358333952   \n",
       "2  I have been much tougher on Russia than Obama,...   87  965943827931549696   \n",
       "3  Hope Republicans in the Great State of Pennsyl...  140  965937068907073536   \n",
       "4  Matt Schlapp and CPAC are getting ready for an...  140  965935035328155649   \n",
       "5  Republicans are now leading the Generic Poll, ...  140  965932714141650946   \n",
       "6  ....The President Obama quote just before elec...  139  965930611272712192   \n",
       "7  “There is no serious person out there who woul...  140  965928352614965248   \n",
       "8  Thank you to @foxandfriends for the great time...  140  965925223949357056   \n",
       "9  “The Faith of Donald Trump,” a book just out b...  110  965780052167286784   \n",
       "\n",
       "                 Date              Source  Likes    RTs  SA  \n",
       "0 2018-02-20 15:29:07  Twitter for iPhone  26244   7097  -1  \n",
       "1 2018-02-20 15:16:06  Twitter for iPhone  33462   8368   1  \n",
       "2 2018-02-20 13:38:49  Twitter for iPhone  38982   8747  -1  \n",
       "3 2018-02-20 13:11:58  Twitter for iPhone  40096  11188   1  \n",
       "4 2018-02-20 13:03:53  Twitter for iPhone  28125   6026   1  \n",
       "5 2018-02-20 12:54:39  Twitter for iPhone  43166   9920   1  \n",
       "6 2018-02-20 12:46:18  Twitter for iPhone  45293  11746   1  \n",
       "7 2018-02-20 12:37:20  Twitter for iPhone  36784  10129   1  \n",
       "8 2018-02-20 12:24:54  Twitter for iPhone  39398   9234   1  \n",
       "9 2018-02-20 02:48:02  Twitter for iPhone  52558  10766   1  "
      ]
     },
     "metadata": {},
     "output_type": "display_data"
    }
   ],
   "source": [
    "# We create a column with the result of the analysis:\n",
    "data['SA'] = np.array([ analize_sentiment(tweet) for tweet in data['Tweets'] ])\n",
    "\n",
    "# We display the updated dataframe with the new column:\n",
    "display(data.head(10))"
   ]
  },
  {
   "cell_type": "code",
   "execution_count": 30,
   "metadata": {},
   "outputs": [],
   "source": [
    "# We construct lists with classified tweets:\n",
    "\n",
    "pos_tweets = [ tweet for index, tweet in enumerate(data['Tweets']) if data['SA'][index] > 0]\n",
    "neu_tweets = [ tweet for index, tweet in enumerate(data['Tweets']) if data['SA'][index] == 0]\n",
    "neg_tweets = [ tweet for index, tweet in enumerate(data['Tweets']) if data['SA'][index] < 0]"
   ]
  },
  {
   "cell_type": "code",
   "execution_count": 31,
   "metadata": {},
   "outputs": [
    {
     "name": "stdout",
     "output_type": "stream",
     "text": [
      "Percentage of positive tweets: 53.5%\n",
      "Percentage of neutral tweets: 23.0%\n",
      "Percentage de negative tweets: 23.5%\n"
     ]
    }
   ],
   "source": [
    "# We print percentages:\n",
    "\n",
    "print(\"Percentage of positive tweets: {}%\".format(len(pos_tweets)*100/len(data['Tweets'])))\n",
    "print(\"Percentage of neutral tweets: {}%\".format(len(neu_tweets)*100/len(data['Tweets'])))\n",
    "print(\"Percentage de negative tweets: {}%\".format(len(neg_tweets)*100/len(data['Tweets'])))"
   ]
  }
 ],
 "metadata": {
  "kernelspec": {
   "display_name": "Python 3",
   "language": "python",
   "name": "python3"
  },
  "language_info": {
   "codemirror_mode": {
    "name": "ipython",
    "version": 3
   },
   "file_extension": ".py",
   "mimetype": "text/x-python",
   "name": "python",
   "nbconvert_exporter": "python",
   "pygments_lexer": "ipython3",
   "version": "3.6.4"
  }
 },
 "nbformat": 4,
 "nbformat_minor": 2
}
